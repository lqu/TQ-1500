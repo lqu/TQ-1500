{
 "cells": [
  {
   "cell_type": "markdown",
   "metadata": {},
   "source": [
    "# Introduction\n",
    "This program automates the process of using an oscilloscope remotely to analyze the single from the magnetic sensors and calculates where the stones are placed.\n",
    "The search of pulses and runts are done on the oscilloscope, instead of the host machine. It's only to show the ability of the scope. Host processing will be much faster.\n"
   ]
  },
  {
   "cell_type": "code",
   "execution_count": null,
   "metadata": {},
   "outputs": [],
   "source": [
    "import array\n",
    "import matplotlib.pyplot as plot"
   ]
  },
  {
   "cell_type": "markdown",
   "metadata": {},
   "source": [
    "# Connect to Rigol scope"
   ]
  },
  {
   "cell_type": "code",
   "execution_count": null,
   "metadata": {},
   "outputs": [],
   "source": [
    "# pip install pyvisa pyvisa-py\n",
    "import pyvisa\n",
    "\n",
    "rm = pyvisa.ResourceManager('@py')\n",
    "inst = rm.open_resource(\"TCPIP::192.168.86.230::INSTR\")\n",
    "\n",
    "q = inst.query\n",
    "w = inst.write\n",
    "\n",
    "q(\"*IDN?\")"
   ]
  },
  {
   "cell_type": "markdown",
   "metadata": {},
   "source": [
    "# Configure trigger and start single acquisition"
   ]
  },
  {
   "cell_type": "code",
   "execution_count": null,
   "metadata": {},
   "outputs": [],
   "source": [
    "w(':ACQ:MEMD LONG') # Long memory type\n",
    "w(':CHAN1:COUP DC') # DC coupling\n",
    "w(':CHAN1:DISP ON') # Channel 1 on\n",
    "w(':CHAN2:DISP OFF') # Channel 2 off\n",
    "w(':CHAN1:SCAL 1') # Channel 1 vertical scale 1 volts\n",
    "w(':CHAN1:OFFS -4') # Channel 1 vertical offset -4 volts\n",
    "w(':TIM:SCAL .02') # 20ms time interval\n",
    "w(':TIM:OFFS -.08') # Offset time -80 ms (center at -80 ms), trigger to the right\n",
    "\n",
    "w(':TRIG:EDGE:SOUR CHAN1') # Edge-trigger from channel 1\n",
    "w(':TRIG:EDGE:COUP DC') # DC trigger coupling\n",
    "w(':TRIG:EDGE:SLOP POS') # Trigger on positive edge\n",
    "w(':TRIG:EDGE:LEV 7.0') # Trigger at 7.0 volts\n",
    "#w(':TRIGger:SWEep NORMal')\n",
    "w(\":SING\")\n"
   ]
  },
  {
   "cell_type": "markdown",
   "metadata": {},
   "source": [
    "# Trigger the scope\n",
    "Now place a black stone at (16, 4) position. The scope should be triggered.\n",
    "\n",
    "# Search for the start of the polling loop\n",
    "Loop starts with a negative pulse of 2.8 V and 10 ms wide. Stone position is marked by a runt of 3.8 V and 1 ms wide. The negative spikes indicate when the X location is shifted to the next line."
   ]
  },
  {
   "cell_type": "code",
   "execution_count": null,
   "metadata": {},
   "outputs": [],
   "source": [
    "q(\":SEARch:STATe?\")\n",
    "w(\":SEARch:STATe 1\")\n",
    "q(\":SEARch:STATe?\")\n",
    "w(\":SEARch:MODE PULS\")\n",
    "w(\":SEARch:PULSe:POLarity NEGative\")\n",
    "w(\":SEARch:PULSe:SOURce CHAN1\")\n",
    "q(\":SEARch:PULSe:QUAL?\")\n",
    "w(\":SEARch:PULSe:THReshold 3.5\")\n",
    "w(\":SEARch:PULSe:LWIDth 0.005\")\n"
   ]
  },
  {
   "attachments": {},
   "cell_type": "markdown",
   "metadata": {},
   "source": [
    "# Search result\n",
    "![Search for loop start, negative pulse](search-1.png)"
   ]
  },
  {
   "cell_type": "code",
   "execution_count": null,
   "metadata": {},
   "outputs": [],
   "source": [
    "print(\"Found anything? \", q(\":SEAR:COUNT?\"))\n",
    "print(\"Current search index? \", q(\":SEAR:EVEN?\"))\n",
    "start = float(q(\":SEAR:VAL? 0\").strip())\n",
    "start = round(start, 6)\n",
    "print(\"Loop start location: \", start)\n",
    "w(\":WAV:DATA?\")\n",
    "rawdata = inst.read_raw()\n",
    "d = array.array('B', rawdata[10:])\n",
    "#print(d)\n",
    "plot.plot(d)\n",
    "\n"
   ]
  },
  {
   "attachments": {},
   "cell_type": "markdown",
   "metadata": {},
   "source": [
    "The plotted data should look like this. Same shape as the oscilloscope screenshot.\n",
    "\n",
    "![Data Plot](plot.png)"
   ]
  },
  {
   "cell_type": "markdown",
   "metadata": {},
   "source": [
    "# Search for spikes and the runt\n",
    "Right rising edge of the runt is at time 0.\n",
    "The times between adjacent spikes are not guaranteed to be the same.\n",
    "Such assumptions will lead to unacceptable errors in the inner loop (Y position).\n",
    "At least we need to know when the inner loop starts where the runt happens.\n"
   ]
  },
  {
   "cell_type": "code",
   "execution_count": null,
   "metadata": {},
   "outputs": [
    {
     "name": "stdout",
     "output_type": "stream",
     "text": [
      "count:  26\n",
      "current index,  0\n",
      "\n",
      "value of 1st occurrance: -1.745260E-1\n",
      "\n"
     ]
    }
   ],
   "source": [
    "w(\":SEARch:MODE EDGe\")\n",
    "w(\":SEARch:EDGe:POLarity POSitive\")\n",
    "w(\":SEARch:EDGe:SOURce CHAN1\")\n",
    "w(\":SEARch:EDGe:THReshold 3.5\")\n",
    "edge_cnt = int(q(\":SEAR:COUNT?\"))\n",
    "print(\"Count: \", edge_cnt)\n",
    "print(\"Current index: \", q(\":SEAR:EVEN?\"))\n",
    "print(\"Value of 1st occurrence:\", q(\":SEAR:VAL? 0\"))\n"
   ]
  },
  {
   "attachments": {},
   "cell_type": "markdown",
   "metadata": {},
   "source": [
    "# Search result\n",
    "![Search for spikes](search-2.png)"
   ]
  },
  {
   "cell_type": "markdown",
   "metadata": {},
   "source": [
    "# Calculate (X, Y) position\n",
    "Only count spikes between loops start and the runt at time 0."
   ]
  },
  {
   "cell_type": "code",
   "execution_count": null,
   "metadata": {},
   "outputs": [
    {
     "name": "stdout",
     "output_type": "stream",
     "text": [
      "(16, 4)\n"
     ]
    }
   ],
   "source": [
    "bars = []\n",
    "for i in range(edge_cnt):\n",
    "    t = float(q(\":SEARch:VAL? {}\".format(i)))\n",
    "    t = round(t, 6)\n",
    "    if t > start and t < 0:\n",
    "        bars += [t]\n",
    "\n",
    "X = len(bars)\n",
    "\n",
    "Y = (bars[-1] - bars[-2] + 0.0002) / 0.0004\n",
    "print ('({}, {})'.format(X, int(Y)))\n"
   ]
  }
 ],
 "metadata": {
  "kernelspec": {
   "display_name": "testenv",
   "language": "python",
   "name": "testenv"
  },
  "language_info": {
   "codemirror_mode": {
    "name": "ipython",
    "version": 3
   },
   "file_extension": ".py",
   "mimetype": "text/x-python",
   "name": "python",
   "nbconvert_exporter": "python",
   "pygments_lexer": "ipython3",
   "version": "3.9.7"
  }
 },
 "nbformat": 4,
 "nbformat_minor": 5
}
